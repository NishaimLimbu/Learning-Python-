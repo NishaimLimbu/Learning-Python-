{
  "nbformat": 4,
  "nbformat_minor": 0,
  "metadata": {
    "colab": {
      "provenance": [],
      "authorship_tag": "ABX9TyNJO2nCETsrLBwDLcOeECXw",
      "include_colab_link": true
    },
    "kernelspec": {
      "name": "python3",
      "display_name": "Python 3"
    },
    "language_info": {
      "name": "python"
    }
  },
  "cells": [
    {
      "cell_type": "markdown",
      "metadata": {
        "id": "view-in-github",
        "colab_type": "text"
      },
      "source": [
        "<a href=\"https://colab.research.google.com/github/NishaimLimbu/Learning-Python-/blob/main/Lesson2.ipynb\" target=\"_parent\"><img src=\"https://colab.research.google.com/assets/colab-badge.svg\" alt=\"Open In Colab\"/></a>"
      ]
    },
    {
      "cell_type": "markdown",
      "source": [
        "Condtional statements are used to perform certain task if condtion is fullfilled else it will not be execuited."
      ],
      "metadata": {
        "id": "xDoJRNYBJ2Yy"
      }
    },
    {
      "cell_type": "markdown",
      "source": [
        "We can use:\n",
        "*   if and else condtion or,\n",
        "*   if, elif and else condtion\n",
        "if and else condtion is for condition is fullied than true else false.\n",
        "if, elif and else if for multiple conditions."
      ],
      "metadata": {
        "id": "CAsxngvFKLOX"
      }
    },
    {
      "cell_type": "markdown",
      "source": [
        "We use different operators to check the condtions like ==, !=, <, >, <=, >=\n",
        "*   They are equal to, not equal to, less than, greater than, less than equal to and greater than equal to.\n",
        "\n"
      ],
      "metadata": {
        "id": "v40K7mKKK-U-"
      }
    },
    {
      "cell_type": "code",
      "execution_count": 1,
      "metadata": {
        "colab": {
          "base_uri": "https://localhost:8080/"
        },
        "id": "kEjAK_-CJtxS",
        "outputId": "daf3b0d6-180a-4277-ed58-e402c559e32a"
      },
      "outputs": [
        {
          "output_type": "stream",
          "name": "stdout",
          "text": [
            "not equal\n"
          ]
        }
      ],
      "source": [
        "a=15\n",
        "b=17\n",
        "if a==b:\n",
        "  print (\"equal\")\n",
        "else :\n",
        "  print (\"not equal\")"
      ]
    },
    {
      "cell_type": "markdown",
      "source": [
        "Even if multiple condtion will be true than also the python terminator will end the program after the first condtion will meet true other will not be exicuter."
      ],
      "metadata": {
        "id": "D7nwsRP1MVYi"
      }
    },
    {
      "cell_type": "code",
      "source": [
        "if a!=b:\n",
        "  print (\"not equal to\")\n",
        "elif a>b:\n",
        "  print (\"greater\")\n",
        "elif a<=b:\n",
        "  print (\"less than equal\")\n",
        "else :\n",
        "  (\"error\")"
      ],
      "metadata": {
        "colab": {
          "base_uri": "https://localhost:8080/"
        },
        "id": "-fDTpL4pL26C",
        "outputId": "a3887a13-a91e-4fbd-a5d9-eba6abb93b32"
      },
      "execution_count": 2,
      "outputs": [
        {
          "output_type": "stream",
          "name": "stdout",
          "text": [
            "not equal to\n"
          ]
        }
      ]
    },
    {
      "cell_type": "markdown",
      "source": [
        "% is module sign which helps to find the reminder of division.\n"
      ],
      "metadata": {
        "id": "GUm7OSJxMyWf"
      }
    },
    {
      "cell_type": "markdown",
      "source": [
        "Task1 : wap to find the entered number is even or odd."
      ],
      "metadata": {
        "id": "8X4IjT2BM1DB"
      }
    },
    {
      "cell_type": "code",
      "source": [
        "num=int(input(\"enter a number: \"))\n",
        "if (num%2==0):\n",
        "  print (\"even\")\n",
        "else:\n",
        "  print (\"odd\")"
      ],
      "metadata": {
        "colab": {
          "base_uri": "https://localhost:8080/"
        },
        "id": "uLCns-wMMp2B",
        "outputId": "76c51d52-1f2e-4d83-f94b-c89fc4659a88"
      },
      "execution_count": 5,
      "outputs": [
        {
          "output_type": "stream",
          "name": "stdout",
          "text": [
            "enter a number: 17\n",
            "odd\n"
          ]
        }
      ]
    },
    {
      "cell_type": "markdown",
      "source": [
        "We use \"and\" or \"or\" to give multiple condition in one line of condition. and is used in condtion than it shows that the both condtion should be fullfilled to print. And or shows atleast one condition should be fulfilled."
      ],
      "metadata": {
        "id": "TUVRDS6AOIln"
      }
    },
    {
      "cell_type": "markdown",
      "source": [
        "Task2 : wap to find greatest among three numbers."
      ],
      "metadata": {
        "id": "cBoU7aoqNaLe"
      }
    },
    {
      "cell_type": "code",
      "source": [
        "a=int(input(\"enter first numeber\"))\n",
        "b=int(input(\"enter second numeber\"))\n",
        "c=int(input(\"enter third numeber\"))\n",
        "if a>b and a>c:\n",
        "  print (f\"greatest is {a}\")\n",
        "elif b>c:\n",
        "  print (f\"greatest is {b}\")\n",
        "else:\n",
        "  print (f\"greatest is {c}\")"
      ],
      "metadata": {
        "colab": {
          "base_uri": "https://localhost:8080/"
        },
        "id": "ck2C_Nt_NgUh",
        "outputId": "baf4d236-da79-476e-ad3b-0a6cfeea2ca4"
      },
      "execution_count": 7,
      "outputs": [
        {
          "output_type": "stream",
          "name": "stdout",
          "text": [
            "enter first numeber8\n",
            "enter second numeber5\n",
            "enter third numeber3\n",
            "greatest is 8\n"
          ]
        }
      ]
    },
    {
      "cell_type": "markdown",
      "source": [
        "Task3 : wap to make a simple game to guess the number in 3 try if not guessed than give the answer which was the correct answer."
      ],
      "metadata": {
        "id": "opq5xNiLVVQs"
      }
    },
    {
      "cell_type": "code",
      "source": [
        "print (\"****Welcome****\")\n",
        "a=0\n",
        "n=3\n",
        "print (\"Can you Guess the number in 3 ties?\\nIf yes then try by entering number between 0-10:\")\n",
        "while a<n:\n",
        "    x=int (input ())\n",
        "    if x==7:\n",
        "        print(\"You got the correct number\\n\")\n",
        "        break\n",
        "    else:\n",
        "        print (\"tyr again\\n\")\n",
        "        a=a+1\n",
        "if a==n and a!=7:\n",
        "    print (\"The correct no was 7\")"
      ],
      "metadata": {
        "colab": {
          "base_uri": "https://localhost:8080/"
        },
        "id": "gC0LHZD6Vjwn",
        "outputId": "ef79959e-09e0-429d-e2af-2a1bca2758b8"
      },
      "execution_count": 9,
      "outputs": [
        {
          "output_type": "stream",
          "name": "stdout",
          "text": [
            "****Welcome****\n",
            "Can you Guess the number in 3 ties?\n",
            "If yes then try by entering number between 0-10:\n",
            "9\n",
            "tyr again\n",
            "\n",
            "6\n",
            "tyr again\n",
            "\n",
            "4\n",
            "tyr again\n",
            "\n",
            "The correct no was 7\n"
          ]
        }
      ]
    }
  ]
}