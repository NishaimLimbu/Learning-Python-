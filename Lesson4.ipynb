{
  "nbformat": 4,
  "nbformat_minor": 0,
  "metadata": {
    "colab": {
      "provenance": [],
      "authorship_tag": "ABX9TyOCpNxijXy+HDBE2wiKyCd8",
      "include_colab_link": true
    },
    "kernelspec": {
      "name": "python3",
      "display_name": "Python 3"
    },
    "language_info": {
      "name": "python"
    }
  },
  "cells": [
    {
      "cell_type": "markdown",
      "metadata": {
        "id": "view-in-github",
        "colab_type": "text"
      },
      "source": [
        "<a href=\"https://colab.research.google.com/github/NishaimLimbu/Learning-Python-/blob/main/Lesson4.ipynb\" target=\"_parent\"><img src=\"https://colab.research.google.com/assets/colab-badge.svg\" alt=\"Open In Colab\"/></a>"
      ]
    },
    {
      "cell_type": "markdown",
      "source": [
        "Functions:\n"
      ],
      "metadata": {
        "id": "NPk9Z_1WBN8m"
      }
    },
    {
      "cell_type": "markdown",
      "source": [
        "Functions is a block of code that perform specific task whenever it is called."
      ],
      "metadata": {
        "id": "-pm7MbdQBUvA"
      }
    },
    {
      "cell_type": "code",
      "execution_count": 1,
      "metadata": {
        "colab": {
          "base_uri": "https://localhost:8080/"
        },
        "id": "GzbVS9Ou-4pe",
        "outputId": "48c2a000-5c11-4204-84db-08afe5d37a32"
      },
      "outputs": [
        {
          "output_type": "stream",
          "name": "stdout",
          "text": [
            "2.727272727272727\n",
            "3.827956989247312\n"
          ]
        }
      ],
      "source": [
        "def calculateGmean(a,b):\n",
        "  mean=(a*b)/(a+b)\n",
        "  print (mean)\n",
        "calculateGmean(5,6)\n",
        "calculateGmean(89,4)"
      ]
    },
    {
      "cell_type": "code",
      "source": [
        "def greater(a,b):\n",
        "  if a<b:\n",
        "    print (f\"{a} is greater.\")\n",
        "  else :\n",
        "    print (f\"{b} is greater.\")\n",
        "greater(4,9)\n",
        "greater(19,17)"
      ],
      "metadata": {
        "colab": {
          "base_uri": "https://localhost:8080/"
        },
        "id": "PutUZSqRB0MH",
        "outputId": "664d3201-c2e6-42c1-9244-224fdbb55ee4"
      },
      "execution_count": 2,
      "outputs": [
        {
          "output_type": "stream",
          "name": "stdout",
          "text": [
            "4 is greater.\n",
            "17 is greater.\n"
          ]
        }
      ]
    },
    {
      "cell_type": "code",
      "source": [
        "def pikachu():\n",
        "  pass #if you use \"pass\" it will pass the code and don't give error"
      ],
      "metadata": {
        "id": "kXAwWDIVEZsu"
      },
      "execution_count": 3,
      "outputs": []
    },
    {
      "cell_type": "code",
      "source": [
        "#factorial\n",
        "def factorial(num):\n",
        "  if num==1 or num==0:\n",
        "    return 1\n",
        "  else:\n",
        "    return factorial(num-1)*num\n",
        "\n",
        "x=factorial(4)\n",
        "y=factorial(5)\n",
        "print (x,y)\n"
      ],
      "metadata": {
        "id": "B7uaJEhiE3e9",
        "colab": {
          "base_uri": "https://localhost:8080/"
        },
        "outputId": "bae593e2-cd58-473a-a8dd-55cebbed2e75"
      },
      "execution_count": 18,
      "outputs": [
        {
          "output_type": "stream",
          "name": "stdout",
          "text": [
            "24 120\n"
          ]
        }
      ]
    },
    {
      "cell_type": "code",
      "source": [
        "#fabonacci\n",
        "def feb(num):\n",
        "  if num==0 or num==1:\n",
        "    return num\n",
        "  else:\n",
        "    return feb(num-1)+feb(num-2)\n",
        "\n",
        "x=int (input (\"Enter a number: \"))\n",
        "print (\"Fibonacci Series: \")\n",
        "for i in range (x):\n",
        "  print (feb(i),end=\" \")"
      ],
      "metadata": {
        "colab": {
          "base_uri": "https://localhost:8080/"
        },
        "id": "pVsTsf_di7kJ",
        "outputId": "766e1ba2-fdbc-4f7b-ce24-d0cbbe5bce1b"
      },
      "execution_count": 1,
      "outputs": [
        {
          "output_type": "stream",
          "name": "stdout",
          "text": [
            "Enter a number: 18\n",
            "Fibonacci Series: \n",
            "0 1 1 2 3 5 8 13 21 34 55 89 144 233 377 610 987 1597 "
          ]
        }
      ]
    },
    {
      "cell_type": "code",
      "source": [
        "def abc():\n",
        "    print (\"sum is \",a+b)\n",
        "a=int (input(\"enter first no: \"))\n",
        "b=int (input(\"enter second no: \"))\n",
        "abc()"
      ],
      "metadata": {
        "colab": {
          "base_uri": "https://localhost:8080/"
        },
        "id": "3ES6M8AHCIPp",
        "outputId": "b7ac8099-ccd3-4964-c337-8481df1bedc6"
      },
      "execution_count": 5,
      "outputs": [
        {
          "output_type": "stream",
          "name": "stdout",
          "text": [
            "enter first no: 7\n",
            "enter second no: 9\n",
            "sum is  16\n"
          ]
        }
      ]
    },
    {
      "cell_type": "markdown",
      "source": [
        "Even the functions can be made in another page and imported the page in main mode page.\n",
        "*   import \"page_name\", and use it by calling the name of function."
      ],
      "metadata": {
        "id": "hDXCDcYuCPoT"
      }
    },
    {
      "cell_type": "code",
      "source": [
        "# math is pre made functions by python we can call and use it\n",
        "x=int (input (\"enter a number: \"))\n",
        "import math\n",
        "print (math.factorial(x))"
      ],
      "metadata": {
        "colab": {
          "base_uri": "https://localhost:8080/"
        },
        "id": "uEpegEp0ErVF",
        "outputId": "5e15beac-9303-4fe5-b550-f453009b5d7c"
      },
      "execution_count": 9,
      "outputs": [
        {
          "output_type": "stream",
          "name": "stdout",
          "text": [
            "enter a number: 5\n",
            "120\n"
          ]
        }
      ]
    },
    {
      "cell_type": "markdown",
      "source": [
        "* lambda\n",
        "* lambda is used to make one equation by using one or more than one variables\n",
        "* syntax is : variable = lambda \"variables\" : \"equation\""
      ],
      "metadata": {
        "id": "07taf5afEJEb"
      }
    },
    {
      "cell_type": "code",
      "source": [
        "add =lambda a,b: a+b\n",
        "print(add (2,6) )"
      ],
      "metadata": {
        "colab": {
          "base_uri": "https://localhost:8080/"
        },
        "id": "_vWUkCdjEDQD",
        "outputId": "ed79cc62-4864-4614-a8c4-225878335d07"
      },
      "execution_count": 6,
      "outputs": [
        {
          "output_type": "stream",
          "name": "stdout",
          "text": [
            "8\n"
          ]
        }
      ]
    },
    {
      "cell_type": "code",
      "source": [
        "#greatest by using lambda\n",
        "x = lambda a, b : a if a > b else b\n",
        "print(x(30,40))"
      ],
      "metadata": {
        "colab": {
          "base_uri": "https://localhost:8080/"
        },
        "id": "VYzFOx5rFXXo",
        "outputId": "6fbcf030-d8e6-4d0d-eac2-2dad9a6da209"
      },
      "execution_count": 14,
      "outputs": [
        {
          "output_type": "stream",
          "name": "stdout",
          "text": [
            "40\n"
          ]
        }
      ]
    },
    {
      "cell_type": "code",
      "source": [
        "#factorial of any number.\n",
        "x=int(input (\"Enter a number: \"))\n",
        "a=1\n",
        "for i in range (2,x+1):\n",
        "    a=a*i\n",
        "print (a,f\"is factorial of {x}\")"
      ],
      "metadata": {
        "colab": {
          "base_uri": "https://localhost:8080/"
        },
        "id": "6ma0ZVdZFFnE",
        "outputId": "33a1a831-749c-43d0-d17c-cba8b8b0af2e"
      },
      "execution_count": 13,
      "outputs": [
        {
          "output_type": "stream",
          "name": "stdout",
          "text": [
            "Enter a number: 8\n",
            "40320 is factorial of 8\n"
          ]
        }
      ]
    },
    {
      "cell_type": "code",
      "source": [
        "#docstring\n",
        "def square(n):\n",
        "  '''take it seriously'''\n",
        "  print (n**2)\n",
        "square(5)\n",
        "print (square.__doc__)"
      ],
      "metadata": {
        "colab": {
          "base_uri": "https://localhost:8080/"
        },
        "id": "frDdWPhbFQLz",
        "outputId": "c33111a0-af39-47b2-fafe-8c23d9f3596e"
      },
      "execution_count": 16,
      "outputs": [
        {
          "output_type": "stream",
          "name": "stdout",
          "text": [
            "25\n",
            "take it seriously\n"
          ]
        }
      ]
    }
  ]
}