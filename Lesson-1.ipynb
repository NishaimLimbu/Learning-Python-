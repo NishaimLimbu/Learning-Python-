{
  "nbformat": 4,
  "nbformat_minor": 0,
  "metadata": {
    "colab": {
      "provenance": [],
      "authorship_tag": "ABX9TyMZ7LE/S2CG5QmRCsYbJelg",
      "include_colab_link": true
    },
    "kernelspec": {
      "name": "python3",
      "display_name": "Python 3"
    },
    "language_info": {
      "name": "python"
    }
  },
  "cells": [
    {
      "cell_type": "markdown",
      "metadata": {
        "id": "view-in-github",
        "colab_type": "text"
      },
      "source": [
        "<a href=\"https://colab.research.google.com/github/NishaimLimbu/Learning-Python-/blob/main/Lesson-1.ipynb\" target=\"_parent\"><img src=\"https://colab.research.google.com/assets/colab-badge.svg\" alt=\"Open In Colab\"/></a>"
      ]
    },
    {
      "cell_type": "markdown",
      "source": [
        "To print the written text. We use **\"print\"**."
      ],
      "metadata": {
        "id": "xbHj6ata-Qmp"
      }
    },
    {
      "cell_type": "code",
      "execution_count": 2,
      "metadata": {
        "colab": {
          "base_uri": "https://localhost:8080/"
        },
        "id": "ecGrGNbB-OjG",
        "outputId": "a431d3ff-8050-425c-945b-fe23cabf1907"
      },
      "outputs": [
        {
          "output_type": "stream",
          "name": "stdout",
          "text": [
            "Hello, World!\n"
          ]
        }
      ],
      "source": [
        "print  (\"Hello, World!\")"
      ]
    },
    {
      "cell_type": "markdown",
      "source": [
        "To break the line we use **\"\\n\"**"
      ],
      "metadata": {
        "id": "77wexCM7-4hf"
      }
    },
    {
      "cell_type": "code",
      "source": [
        "print (\"My name is Rakesh.\\n I am 19.\")"
      ],
      "metadata": {
        "colab": {
          "base_uri": "https://localhost:8080/"
        },
        "id": "_d2t_9Av-rpX",
        "outputId": "f8c613f4-a5d4-4b9c-d411-b2789cf9bd80"
      },
      "execution_count": 4,
      "outputs": [
        {
          "output_type": "stream",
          "name": "stdout",
          "text": [
            "My name is Rakesh.\n",
            " I am 19.\n"
          ]
        }
      ]
    },
    {
      "cell_type": "markdown",
      "source": [
        "Variabels, We can assign values to any variables like a=34, A=45 etc.\n",
        "To assign string in variable we put words in between \"\" or ''.like a='rakesh', A=\"Rakesh\""
      ],
      "metadata": {
        "id": "fF_VNMfE_EIY"
      }
    },
    {
      "cell_type": "code",
      "source": [
        "a=75\n",
        "print (a)"
      ],
      "metadata": {
        "colab": {
          "base_uri": "https://localhost:8080/"
        },
        "id": "pv_pHRAM_xYe",
        "outputId": "47b226c0-132c-4ff2-e333-4085af9ec6b1"
      },
      "execution_count": 5,
      "outputs": [
        {
          "output_type": "stream",
          "name": "stdout",
          "text": [
            "75\n"
          ]
        }
      ]
    },
    {
      "cell_type": "code",
      "source": [
        "A=\"Rakesh\"\n",
        "print (A)"
      ],
      "metadata": {
        "colab": {
          "base_uri": "https://localhost:8080/"
        },
        "id": "8h6-CMGoAJYB",
        "outputId": "fb074171-a57d-4e31-8a08-2b10034c28b1"
      },
      "execution_count": 6,
      "outputs": [
        {
          "output_type": "stream",
          "name": "stdout",
          "text": [
            "Rakesh\n"
          ]
        }
      ]
    },
    {
      "cell_type": "markdown",
      "source": [
        "**f-string**: We use *f-string *to assign values in side the \"\" in print statement by giving variables inside {}. Simple calculation by assigning values."
      ],
      "metadata": {
        "id": "3MsK5-hWAhdl"
      }
    },
    {
      "cell_type": "code",
      "source": [
        "a=45\n",
        "b=75\n",
        "sum=a+b\n",
        "product=a*b\n",
        "diff=b-a\n",
        "div=b/a\n",
        "print (f\"Sum is {sum}.\\nProduct is{product}.\\nDifference is {diff}.\\nDivision is {div}\")"
      ],
      "metadata": {
        "colab": {
          "base_uri": "https://localhost:8080/"
        },
        "id": "DGWfnu36AUAV",
        "outputId": "0372253b-86e0-4782-f7b4-27f3eeec1ac0"
      },
      "execution_count": 8,
      "outputs": [
        {
          "output_type": "stream",
          "name": "stdout",
          "text": [
            "Sum is 120.\n",
            "Product is3375.\n",
            "Difference is 30.\n",
            "Division is 1.6666666666666667\n"
          ]
        }
      ]
    },
    {
      "cell_type": "markdown",
      "source": [
        "To ask input from user we use **\"input\"** statement"
      ],
      "metadata": {
        "id": "o_k0cMIyBsqi"
      }
    },
    {
      "cell_type": "code",
      "source": [
        "word = input ()"
      ],
      "metadata": {
        "colab": {
          "base_uri": "https://localhost:8080/"
        },
        "id": "XaoQ37MEBsJd",
        "outputId": "386c5940-4f1d-47bd-9a36-edfc89b3df55"
      },
      "execution_count": 10,
      "outputs": [
        {
          "name": "stdout",
          "output_type": "stream",
          "text": [
            "Rakesh\n"
          ]
        }
      ]
    },
    {
      "cell_type": "markdown",
      "source": [
        "We can give message to user inside the **()** by inserting strings inside \"\"."
      ],
      "metadata": {
        "id": "PIODctAeB_qc"
      }
    },
    {
      "cell_type": "code",
      "source": [
        "name=input(\"Enter your name: \")\n",
        "print (name)"
      ],
      "metadata": {
        "colab": {
          "base_uri": "https://localhost:8080/"
        },
        "id": "ZAZuRYA_CJfj",
        "outputId": "a2dd293a-985c-4317-f75b-3d3b34d175e1"
      },
      "execution_count": 11,
      "outputs": [
        {
          "output_type": "stream",
          "name": "stdout",
          "text": [
            "Enter your name: Rakesh\n",
            "Rakesh\n"
          ]
        }
      ]
    },
    {
      "cell_type": "code",
      "source": [
        "age1=input (\"Enter your age: \")\n",
        "print (age1)"
      ],
      "metadata": {
        "colab": {
          "base_uri": "https://localhost:8080/"
        },
        "id": "ppWAKI8_CSf1",
        "outputId": "c121ee68-c6ef-438b-cfcd-2538d96049a0"
      },
      "execution_count": 16,
      "outputs": [
        {
          "output_type": "stream",
          "name": "stdout",
          "text": [
            "Enter your age: 18\n",
            "18\n"
          ]
        }
      ]
    },
    {
      "cell_type": "markdown",
      "source": [
        "The above inseted age is not an integer it is an string. To convert string number into integer we use **int().**"
      ],
      "metadata": {
        "id": "f3Gdrqf5CfQ0"
      }
    },
    {
      "cell_type": "code",
      "source": [
        "age2=int(input(\"Enter your age: \"))\n",
        "print (age2)"
      ],
      "metadata": {
        "colab": {
          "base_uri": "https://localhost:8080/"
        },
        "id": "1dq6OTssCc-d",
        "outputId": "5f65e27a-9e55-4073-dacd-8f965b9cf626"
      },
      "execution_count": 17,
      "outputs": [
        {
          "output_type": "stream",
          "name": "stdout",
          "text": [
            "Enter your age: 19\n",
            "19\n"
          ]
        }
      ]
    },
    {
      "cell_type": "markdown",
      "source": [
        "Although both seems same they are different. If we add *age1 + age1* it will give result **1818**. But if we add *age2 + age2* it will give **38**."
      ],
      "metadata": {
        "id": "pZHjt2i5C2YC"
      }
    },
    {
      "cell_type": "code",
      "source": [
        "sum1=age1+age1\n",
        "sum2=age2+age2\n",
        "print (sum1)\n",
        "print (sum2)"
      ],
      "metadata": {
        "colab": {
          "base_uri": "https://localhost:8080/"
        },
        "id": "IlJpcL44DY8l",
        "outputId": "22966ff4-e06d-4fc4-8593-2c645846210b"
      },
      "execution_count": 18,
      "outputs": [
        {
          "output_type": "stream",
          "name": "stdout",
          "text": [
            "1818\n",
            "38\n"
          ]
        }
      ]
    },
    {
      "cell_type": "markdown",
      "source": [
        "We can use **int(), float()** to convert string into any kind of number acc to your requirement."
      ],
      "metadata": {
        "id": "tiCzlRSGEDBH"
      }
    },
    {
      "cell_type": "markdown",
      "source": [
        "Task 1: To create an calculater which can add, subtract, multiply, and divide two numbers."
      ],
      "metadata": {
        "id": "C2c4ovSKERT0"
      }
    },
    {
      "cell_type": "code",
      "source": [
        "num1=float(input(\"Enter first number: \"))\n",
        "num2=float(input(\"Enter second number: \"))\n",
        "sum=num1+num2\n",
        "diff=num1-num2\n",
        "prod=num1*num2\n",
        "div=num1/num2\n",
        "print (\"sum is:\", sum)\n",
        "print (\"difference is:\", diff)\n",
        "print (\"product is:\", prod)\n",
        "print (\"divide is:\", div)"
      ],
      "metadata": {
        "colab": {
          "base_uri": "https://localhost:8080/"
        },
        "id": "jSNggeQ0D-xQ",
        "outputId": "3fcd8041-e437-484d-90dd-05ae1d5d0dc3"
      },
      "execution_count": 21,
      "outputs": [
        {
          "output_type": "stream",
          "name": "stdout",
          "text": [
            "Enter first number: 75\n",
            "Enter second number: 19\n",
            "sum is: 94.0\n",
            "difference is: 56.0\n",
            "product is: 1425.0\n",
            "divide is: 3.9473684210526314\n"
          ]
        }
      ]
    }
  ]
}