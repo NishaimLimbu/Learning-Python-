{
  "nbformat": 4,
  "nbformat_minor": 0,
  "metadata": {
    "colab": {
      "provenance": [],
      "authorship_tag": "ABX9TyNnCs2MZQGaHm2TqVs5KZoB",
      "include_colab_link": true
    },
    "kernelspec": {
      "name": "python3",
      "display_name": "Python 3"
    },
    "language_info": {
      "name": "python"
    }
  },
  "cells": [
    {
      "cell_type": "markdown",
      "metadata": {
        "id": "view-in-github",
        "colab_type": "text"
      },
      "source": [
        "<a href=\"https://colab.research.google.com/github/NishaimLimbu/Learning-Python-/blob/main/programs.ipynb\" target=\"_parent\"><img src=\"https://colab.research.google.com/assets/colab-badge.svg\" alt=\"Open In Colab\"/></a>"
      ]
    },
    {
      "cell_type": "code",
      "execution_count": 1,
      "metadata": {
        "colab": {
          "base_uri": "https://localhost:8080/"
        },
        "id": "w5V5kMWcMhub",
        "outputId": "270d5f9d-b7c5-47c1-cc27-336416187356"
      },
      "outputs": [
        {
          "output_type": "stream",
          "name": "stdout",
          "text": [
            "Enter your name: Shaming Limbu\n",
            "Shaming Limbu\n"
          ]
        }
      ],
      "source": [
        "#print name\n",
        "name=input (\"Enter your name: \")\n",
        "print (name)"
      ]
    },
    {
      "cell_type": "code",
      "source": [
        "#wap to find greatest among 3 number.\n",
        "a=int(input(\"Enter first number: \"))\n",
        "b=int(input(\"Enter second number: \"))\n",
        "c=int(input(\"Enter third number: \"))\n",
        "if a>b and a>c:\n",
        "  print (f\"Greatest is {a}\")\n",
        "elif b>c:\n",
        "  print (f\"Greatest is {b}\")\n",
        "else:\n",
        "  print (f'Greatest is {c}')"
      ],
      "metadata": {
        "colab": {
          "base_uri": "https://localhost:8080/"
        },
        "id": "qQTk6ZrkNb2S",
        "outputId": "840ca589-2b70-46ce-8867-9c8adb851550"
      },
      "execution_count": 3,
      "outputs": [
        {
          "output_type": "stream",
          "name": "stdout",
          "text": [
            "Enter first number: 5\n",
            "Enter second number: 9\n",
            "Enter third number: 6\n",
            "Greatest is 9\n"
          ]
        }
      ]
    },
    {
      "cell_type": "code",
      "source": [
        "#wap to find the area of circle.\n",
        "rad=float(input (\"Enter the radius of circle: \"))\n",
        "area=(22/7)*rad**2\n",
        "print (f\"Area of circle is : {area}\")"
      ],
      "metadata": {
        "colab": {
          "base_uri": "https://localhost:8080/"
        },
        "id": "O6ug7nvkOBHb",
        "outputId": "7da54dcd-cf1f-41b2-c022-3abde136db95"
      },
      "execution_count": 4,
      "outputs": [
        {
          "output_type": "stream",
          "name": "stdout",
          "text": [
            "Enter the radius of circle: 7\n",
            "Area of circle is : 154.0\n"
          ]
        }
      ]
    },
    {
      "cell_type": "code",
      "source": [
        "#wap to find the factorial of the given number.\n",
        "num=int (input (\"Enter a number: \"))\n",
        "for i in range(1,num):\n",
        "  num=num*i\n",
        "print (\"Factorial is: \",num)"
      ],
      "metadata": {
        "colab": {
          "base_uri": "https://localhost:8080/"
        },
        "id": "dUKZzuTfOZME",
        "outputId": "15221c77-bbc9-4d3f-aa86-b2dcc15c0538"
      },
      "execution_count": 12,
      "outputs": [
        {
          "output_type": "stream",
          "name": "stdout",
          "text": [
            "Enter a number: 6\n",
            "Factorial is:  720\n"
          ]
        }
      ]
    },
    {
      "cell_type": "code",
      "source": [
        "#wap to check whether the number is divisible by 8 or not\n",
        "num=int(input(\"Enter a number: \"))\n",
        "if num % 8==0:\n",
        "  print (\"Divisible by 8\")\n",
        "else:\n",
        "  print (\"Not_Divisible by 8\")"
      ],
      "metadata": {
        "colab": {
          "base_uri": "https://localhost:8080/"
        },
        "id": "BMthyL-uPKiU",
        "outputId": "bf1a61e7-475f-4543-c5d2-1aab57688d45"
      },
      "execution_count": 13,
      "outputs": [
        {
          "output_type": "stream",
          "name": "stdout",
          "text": [
            "Enter a number: 75\n",
            "Not_Divisible by 8\n"
          ]
        }
      ]
    },
    {
      "cell_type": "code",
      "source": [
        "#wap to check whether a number is even or odd\n",
        "num=int(input (\"Enter a number: \"))\n",
        "if num%2==0:\n",
        "  print (f\"{num} is even.\")\n",
        "else:\n",
        "  print (f'{num} is odd.')"
      ],
      "metadata": {
        "colab": {
          "base_uri": "https://localhost:8080/"
        },
        "id": "GoRMCTkBP4xN",
        "outputId": "0610af03-8804-492f-ca02-5a85b8780e88"
      },
      "execution_count": 14,
      "outputs": [
        {
          "output_type": "stream",
          "name": "stdout",
          "text": [
            "Enter a number: 453\n",
            "453 is odd.\n"
          ]
        }
      ]
    },
    {
      "cell_type": "code",
      "source": [
        "#wap to find whether the number is divisible by both 3 and 5 or not\n",
        "num=int (input (\"Enter a number: \"))\n",
        "if num%3==0 & num%5==0:\n",
        "  print (\"Divisible by both 3 and 5.\")\n",
        "else:\n",
        "  print (\"Not-Divisible by both 3 and 5.\")"
      ],
      "metadata": {
        "colab": {
          "base_uri": "https://localhost:8080/"
        },
        "id": "qbno0ER4QMOb",
        "outputId": "dc305edb-62b8-4af9-81d4-9314446715ec"
      },
      "execution_count": 19,
      "outputs": [
        {
          "output_type": "stream",
          "name": "stdout",
          "text": [
            "Enter a number: 15\n",
            "Divisible by both 3 and 5.\n"
          ]
        }
      ]
    },
    {
      "cell_type": "code",
      "source": [
        "#wap to check whether the number is palendrome or not.\n",
        "num=int (input (\"Enter a number: \"))\n",
        "original=num\n",
        "reverse=0\n",
        "\n",
        "while num>0:\n",
        "  digit=num%10\n",
        "  reverse=reverse * 10 + digit\n",
        "  num = num//10\n",
        "\n",
        "if original==reverse:\n",
        "  print (f\"{original} is palindrome.\")\n",
        "else:\n",
        "  print (f\"{original} is not palindrome.\")"
      ],
      "metadata": {
        "colab": {
          "base_uri": "https://localhost:8080/"
        },
        "id": "SJDBUED7R9Sh",
        "outputId": "0c2666da-e26b-44fc-9c29-878cd87da570"
      },
      "execution_count": 20,
      "outputs": [
        {
          "output_type": "stream",
          "name": "stdout",
          "text": [
            "Enter a number: 14541\n",
            "14541 is palindrome.\n"
          ]
        }
      ]
    },
    {
      "cell_type": "code",
      "source": [
        "#wap to check the word is palindrome or not\n",
        "text=input ('enter a word: ')\n",
        "if text==text[::-1]:\n",
        "  print (\"palindrome\")\n",
        "else:\n",
        "  print (\"not palindrome\")"
      ],
      "metadata": {
        "colab": {
          "base_uri": "https://localhost:8080/"
        },
        "id": "t9R7BCQzS4Iu",
        "outputId": "e41f3a37-3d17-41e9-f041-141a01be2537"
      },
      "execution_count": 22,
      "outputs": [
        {
          "output_type": "stream",
          "name": "stdout",
          "text": [
            "enter a word: tattarrattat\n",
            "palindrome\n"
          ]
        }
      ]
    },
    {
      "cell_type": "code",
      "source": [],
      "metadata": {
        "id": "fqYTeIMOTSHo"
      },
      "execution_count": null,
      "outputs": []
    }
  ]
}