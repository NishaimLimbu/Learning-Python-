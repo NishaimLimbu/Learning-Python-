{
  "nbformat": 4,
  "nbformat_minor": 0,
  "metadata": {
    "colab": {
      "provenance": [],
      "authorship_tag": "ABX9TyOYIdltIXBNQqnWIi0dfWf1",
      "include_colab_link": true
    },
    "kernelspec": {
      "name": "python3",
      "display_name": "Python 3"
    },
    "language_info": {
      "name": "python"
    }
  },
  "cells": [
    {
      "cell_type": "markdown",
      "metadata": {
        "id": "view-in-github",
        "colab_type": "text"
      },
      "source": [
        "<a href=\"https://colab.research.google.com/github/NishaimLimbu/Learning-Python-/blob/main/Lesson3.ipynb\" target=\"_parent\"><img src=\"https://colab.research.google.com/assets/colab-badge.svg\" alt=\"Open In Colab\"/></a>"
      ]
    },
    {
      "cell_type": "markdown",
      "source": [
        "While loop:\n"
      ],
      "metadata": {
        "id": "4BEup9Y6Cup3"
      }
    },
    {
      "cell_type": "code",
      "execution_count": 1,
      "metadata": {
        "colab": {
          "base_uri": "https://localhost:8080/"
        },
        "id": "W4jLj2HRBsGP",
        "outputId": "13d6cec4-a1e0-4e4b-91a2-0f31d300523e"
      },
      "outputs": [
        {
          "output_type": "stream",
          "name": "stdout",
          "text": [
            "5\n",
            "4\n",
            "3\n",
            "2\n",
            "1\n"
          ]
        }
      ],
      "source": [
        "count=5\n",
        "while (count>0):\n",
        "  print(count)\n",
        "  count=count-1"
      ]
    },
    {
      "cell_type": "code",
      "source": [
        "i=1\n",
        "while (i<10):\n",
        "  i =int (input (\"enter the number: \"))\n",
        "  print (i)\n",
        "\n"
      ],
      "metadata": {
        "colab": {
          "base_uri": "https://localhost:8080/"
        },
        "id": "Opto-EzmC95Z",
        "outputId": "5f642452-5a45-4c83-cb90-5a564e204ebd"
      },
      "execution_count": 2,
      "outputs": [
        {
          "output_type": "stream",
          "name": "stdout",
          "text": [
            "enter the number: 10\n",
            "10\n"
          ]
        }
      ]
    },
    {
      "cell_type": "code",
      "source": [
        "count= 4\n",
        "while (count > 5):\n",
        "  print (count)\n",
        "else :\n",
        "  print (\"4 is not greater than zero.\")"
      ],
      "metadata": {
        "colab": {
          "base_uri": "https://localhost:8080/"
        },
        "id": "6W3QuP6SE-y-",
        "outputId": "35400f2d-61c2-484a-f67b-bbb1fce8c96e"
      },
      "execution_count": 3,
      "outputs": [
        {
          "output_type": "stream",
          "name": "stdout",
          "text": [
            "4 is not greater than zero.\n"
          ]
        }
      ]
    },
    {
      "cell_type": "markdown",
      "source": [
        "While True:\n",
        "It will run the program until the condition becomes False.\n",
        "\n",
        "*   break: break statement break the program. If it will not used in below program it will run for infinite time but break statement end the program.\n"
      ],
      "metadata": {
        "id": "wufuaJDhF5BL"
      }
    },
    {
      "cell_type": "code",
      "source": [
        "while True:\n",
        "  print (\"hello\")\n",
        "  break"
      ],
      "metadata": {
        "colab": {
          "base_uri": "https://localhost:8080/"
        },
        "id": "Tei1FMcEGZsr",
        "outputId": "60836e6c-b32c-4a1f-9fea-fd2f696cf29f"
      },
      "execution_count": 4,
      "outputs": [
        {
          "output_type": "stream",
          "name": "stdout",
          "text": [
            "hello\n"
          ]
        }
      ]
    },
    {
      "cell_type": "code",
      "source": [
        "for i in range(12):\n",
        "  if (i==10):\n",
        "    break #it breaks program after condition meets.\n",
        "  print (\"3 X\", i+1, \"=\", 3*(i+1))\n",
        "print (\"end of program\")"
      ],
      "metadata": {
        "colab": {
          "base_uri": "https://localhost:8080/"
        },
        "id": "cESkuti0HdBr",
        "outputId": "78c97b6a-a782-4210-a61d-34c7a23cc27c"
      },
      "execution_count": 5,
      "outputs": [
        {
          "output_type": "stream",
          "name": "stdout",
          "text": [
            "3 X 1 = 3\n",
            "3 X 2 = 6\n",
            "3 X 3 = 9\n",
            "3 X 4 = 12\n",
            "3 X 5 = 15\n",
            "3 X 6 = 18\n",
            "3 X 7 = 21\n",
            "3 X 8 = 24\n",
            "3 X 9 = 27\n",
            "3 X 10 = 30\n",
            "end of program\n"
          ]
        }
      ]
    },
    {
      "cell_type": "markdown",
      "source": [
        "continue: continue statement will skip the part which is mentioned in the condition."
      ],
      "metadata": {
        "id": "CrOI1wnhHOCg"
      }
    },
    {
      "cell_type": "code",
      "source": [
        "for i in range(12):\n",
        "  if (i==10):\n",
        "    continue #it skip program after condition meets. It skip the 3*11=33 part.\n",
        "  print (\"3 X\", i+1, \"=\", 3*(i+1))\n",
        "print (\"end of program\")"
      ],
      "metadata": {
        "colab": {
          "base_uri": "https://localhost:8080/"
        },
        "id": "PEQvP_hhIFhR",
        "outputId": "3f570760-e70a-48ae-e7dc-7d2fd4ceee34"
      },
      "execution_count": 6,
      "outputs": [
        {
          "output_type": "stream",
          "name": "stdout",
          "text": [
            "3 X 1 = 3\n",
            "3 X 2 = 6\n",
            "3 X 3 = 9\n",
            "3 X 4 = 12\n",
            "3 X 5 = 15\n",
            "3 X 6 = 18\n",
            "3 X 7 = 21\n",
            "3 X 8 = 24\n",
            "3 X 9 = 27\n",
            "3 X 10 = 30\n",
            "3 X 12 = 36\n",
            "end of program\n"
          ]
        }
      ]
    },
    {
      "cell_type": "markdown",
      "source": [
        "List:\n",
        "list are made to store multiple item in single variable.\n",
        "list are seperated by commas and enclosed in []. List can be canged and edited.\n",
        "\n"
      ],
      "metadata": {
        "id": "kD9unpb8I3I4"
      }
    },
    {
      "cell_type": "code",
      "source": [
        "l=[3,5,6]\n",
        "print (l)\n",
        "print (type(l))\n",
        "print (l[0])\n",
        "print (l[1])"
      ],
      "metadata": {
        "colab": {
          "base_uri": "https://localhost:8080/"
        },
        "id": "-7xitWx4IXpz",
        "outputId": "fb12e39d-5657-489e-a807-5ea152777f29"
      },
      "execution_count": 7,
      "outputs": [
        {
          "output_type": "stream",
          "name": "stdout",
          "text": [
            "[3, 5, 6]\n",
            "<class 'list'>\n",
            "3\n",
            "5\n"
          ]
        }
      ]
    },
    {
      "cell_type": "code",
      "source": [
        "color=['red','blue','green']\n",
        "print (color[2])"
      ],
      "metadata": {
        "colab": {
          "base_uri": "https://localhost:8080/"
        },
        "id": "L-e6VZ4DJGYc",
        "outputId": "44222818-44f0-452d-f8a6-f4e9cd339a12"
      },
      "execution_count": 8,
      "outputs": [
        {
          "output_type": "stream",
          "name": "stdout",
          "text": [
            "green\n"
          ]
        }
      ]
    },
    {
      "cell_type": "code",
      "source": [
        "colors=['red','blue','green','yellow','grey']\n",
        "if 'yellow' in colors:\n",
        "  print ('it exist in list')\n",
        "else :\n",
        "  print ('don\\'t exist')"
      ],
      "metadata": {
        "colab": {
          "base_uri": "https://localhost:8080/"
        },
        "id": "7WRXDp81JxRQ",
        "outputId": "cc2ab368-0075-4f6f-9f81-7aa9e4495861"
      },
      "execution_count": 9,
      "outputs": [
        {
          "output_type": "stream",
          "name": "stdout",
          "text": [
            "it exist in list\n"
          ]
        }
      ]
    },
    {
      "cell_type": "code",
      "source": [
        "#to make list of squares\n",
        "num=[i*i for i in range(1,11)]\n",
        "print (num)"
      ],
      "metadata": {
        "colab": {
          "base_uri": "https://localhost:8080/"
        },
        "id": "kAQpAzugLpPH",
        "outputId": "c8e2e7a8-edcf-46e0-9a44-1e31d2a7ad9a"
      },
      "execution_count": 10,
      "outputs": [
        {
          "output_type": "stream",
          "name": "stdout",
          "text": [
            "[1, 4, 9, 16, 25, 36, 49, 64, 81, 100]\n"
          ]
        }
      ]
    },
    {
      "cell_type": "code",
      "source": [
        "#to make list of evens\n",
        "num=[i for i in range(1,11) if i%2==0]\n",
        "print (num)"
      ],
      "metadata": {
        "colab": {
          "base_uri": "https://localhost:8080/"
        },
        "id": "McjWqFNkL0eX",
        "outputId": "5d0f98f2-9b57-4f9e-ff1b-8b28553fa850"
      },
      "execution_count": 11,
      "outputs": [
        {
          "output_type": "stream",
          "name": "stdout",
          "text": [
            "[2, 4, 6, 8, 10]\n"
          ]
        }
      ]
    },
    {
      "cell_type": "code",
      "source": [
        "name=[\"sachin\",\"ram\",\"soham\",\"shyam\",\"lakshman\",'rome']\n",
        "nameWith_0=[item for item in name if \"o\" in item]# print those name which contain o in it\n",
        "print (nameWith_0)"
      ],
      "metadata": {
        "colab": {
          "base_uri": "https://localhost:8080/"
        },
        "id": "OGT1uDzgKXrF",
        "outputId": "dc9e0565-f6d5-4fa0-9734-53ec04729cab"
      },
      "execution_count": 12,
      "outputs": [
        {
          "output_type": "stream",
          "name": "stdout",
          "text": [
            "['soham', 'rome']\n"
          ]
        }
      ]
    },
    {
      "cell_type": "code",
      "source": [
        "#to add item in list\n",
        "list=[\"ram\",\"shyam\",\"sita\"]\n",
        "list.append(\"gita\") #append used to add item in list\n",
        "print (list)\n"
      ],
      "metadata": {
        "colab": {
          "base_uri": "https://localhost:8080/"
        },
        "id": "euCNlwfwMIkb",
        "outputId": "8181da81-98c1-479d-abef-40226f244603"
      },
      "execution_count": 13,
      "outputs": [
        {
          "output_type": "stream",
          "name": "stdout",
          "text": [
            "['ram', 'shyam', 'sita', 'gita']\n"
          ]
        }
      ]
    },
    {
      "cell_type": "code",
      "source": [
        "#to remove item from list\n",
        "list=[\"ram\",\"shyam\",\"sita\"]\n",
        "list.remove(\"shyam\") #remove used to remove item from list\n",
        "print (list)"
      ],
      "metadata": {
        "colab": {
          "base_uri": "https://localhost:8080/"
        },
        "id": "e3_yy-lEQbH-",
        "outputId": "d7fc0a3c-ffe4-4499-dcf4-f83c42d69360"
      },
      "execution_count": 14,
      "outputs": [
        {
          "output_type": "stream",
          "name": "stdout",
          "text": [
            "['ram', 'sita']\n"
          ]
        }
      ]
    },
    {
      "cell_type": "code",
      "source": [
        "#To sort the list\n",
        "list=[8,5,1,9,10,4,6]\n",
        "list.sort() #it sort in acending order\n",
        "print (list)\n",
        "list.reverse() #it sort in decending order\n",
        "print (list)\n"
      ],
      "metadata": {
        "colab": {
          "base_uri": "https://localhost:8080/"
        },
        "id": "tQ3Jz1P6Mfjb",
        "outputId": "50e1294e-e271-449c-8b19-0c604b1b9627"
      },
      "execution_count": 15,
      "outputs": [
        {
          "output_type": "stream",
          "name": "stdout",
          "text": [
            "[1, 4, 5, 6, 8, 9, 10]\n",
            "[10, 9, 8, 6, 5, 4, 1]\n"
          ]
        }
      ]
    },
    {
      "cell_type": "code",
      "source": [
        "#to count how many time the item is repeating in the list.\n",
        "list=[1,2,1,8,5,7,6,9,1,2,5,7,9,1,5,7]\n",
        "print (list.count(9))\n",
        "print (list.count(1))"
      ],
      "metadata": {
        "colab": {
          "base_uri": "https://localhost:8080/"
        },
        "id": "BLHmVTIaMxdt",
        "outputId": "0d624766-a14b-4a14-caab-a8ca1af0a075"
      },
      "execution_count": 16,
      "outputs": [
        {
          "output_type": "stream",
          "name": "stdout",
          "text": [
            "2\n",
            "4\n"
          ]
        }
      ]
    },
    {
      "cell_type": "code",
      "source": [
        "#to copy the list into new variable.\n",
        "list1=[1,11,111,222,22,2]\n",
        "list2=list1\n",
        "list2[2]=666 #by doing this it effect the list1 also.\n",
        "print (\"effected by the list2 value change it changed in list1\",list1)\n",
        "list3=list1.copy()\n",
        "list3[2]=999\n",
        "print (\"don't effect in list1 it is already effect by list2 but not by list3\",list1)#now we can change the value in list3 don't effect list1\n",
        "print (\"it copied the value in other variable so don't effect the change\",list3)"
      ],
      "metadata": {
        "colab": {
          "base_uri": "https://localhost:8080/"
        },
        "id": "JFFJKBupNwJ6",
        "outputId": "9a73ea37-a1ef-453a-c84a-a2df5cda68b7"
      },
      "execution_count": 17,
      "outputs": [
        {
          "output_type": "stream",
          "name": "stdout",
          "text": [
            "effected by the list2 value change it changed in list1 [1, 11, 666, 222, 22, 2]\n",
            "don't effect in list1 it is already effect by list2 but not by list3 [1, 11, 666, 222, 22, 2]\n",
            "it copied the value in other variable so don't effect the change [1, 11, 999, 222, 22, 2]\n"
          ]
        }
      ]
    },
    {
      "cell_type": "code",
      "source": [
        " #remove or popout the perticular item from list.\n",
        "fruits=[\"apple\",'banana','cherry']\n",
        "fruits.pop (1)\n",
        "print (fruits)"
      ],
      "metadata": {
        "id": "eh1IGNfCHVFT",
        "outputId": "9981904f-a840-49ca-9bc5-7bce920dc325",
        "colab": {
          "base_uri": "https://localhost:8080/"
        }
      },
      "execution_count": 26,
      "outputs": [
        {
          "output_type": "stream",
          "name": "stdout",
          "text": [
            "['apple', 'cherry']\n"
          ]
        }
      ]
    },
    {
      "cell_type": "code",
      "source": [
        "#to insert the value in between the item of list without chaning with other\n",
        "list=[1,5,9,7,6,2,4]\n",
        "list.insert(2,10) #insert 10 in 2nd index\n",
        "print (list)"
      ],
      "metadata": {
        "colab": {
          "base_uri": "https://localhost:8080/"
        },
        "id": "QH0O44O8PQlt",
        "outputId": "ecd8b0ad-d607-46cb-9fbc-57da8496cd68"
      },
      "execution_count": 18,
      "outputs": [
        {
          "output_type": "stream",
          "name": "stdout",
          "text": [
            "[1, 5, 10, 9, 7, 6, 2, 4]\n"
          ]
        }
      ]
    },
    {
      "cell_type": "code",
      "source": [
        "#remove the repeated input from the list.\n",
        "fruits=[\"apple\",'banana','cherry','apple','banana','cherry','apple','banana','cherry']\n",
        "set(fruits)"
      ],
      "metadata": {
        "id": "ZlGKBzZ8HrzA",
        "outputId": "ae40af72-d14e-4a9a-bec7-b79b558c187a",
        "colab": {
          "base_uri": "https://localhost:8080/"
        }
      },
      "execution_count": 29,
      "outputs": [
        {
          "output_type": "execute_result",
          "data": {
            "text/plain": [
              "{'apple', 'banana', 'cherry'}"
            ]
          },
          "metadata": {},
          "execution_count": 29
        }
      ]
    },
    {
      "cell_type": "code",
      "source": [
        "#to put one list to other list\n",
        "list1=[1,2,3,4,5]\n",
        "list2=[6,7,8,9,10]\n",
        "list1.extend(list2)\n",
        "print (list1)"
      ],
      "metadata": {
        "colab": {
          "base_uri": "https://localhost:8080/"
        },
        "id": "1dyKj3VePho0",
        "outputId": "4d84bce5-2076-43e6-c55d-c03e49fd6a2c"
      },
      "execution_count": 19,
      "outputs": [
        {
          "output_type": "stream",
          "name": "stdout",
          "text": [
            "[1, 2, 3, 4, 5, 6, 7, 8, 9, 10]\n"
          ]
        }
      ]
    },
    {
      "cell_type": "markdown",
      "source": [
        "Task: To make a program to add the shoping list from the user and also remove the item from list if not needed. And also show the user the final list which he/she chossen."
      ],
      "metadata": {
        "id": "2yaEce8MQLzl"
      }
    },
    {
      "cell_type": "code",
      "source": [
        "list1 =[]\n",
        "print (list1)\n",
        "print (\"Start your shoping list by adding items:\")\n",
        "while True:\n",
        "    x=int(input(\"enter '1' to add your shopping item and enter '2' to remove the item or to exit enter 'any number': \"))\n",
        "    if x==1:\n",
        "            list1.append(input(\"add item: \"))\n",
        "            print(list1)\n",
        "            z=int(input(\"enter '1' to add your shopping item and enter '2' to remove the item or to exit enter 'any number': \"))\n",
        "            if z==1:\n",
        "                   list1.append(input (\"add more: \"))\n",
        "                   print (list1)\n",
        "                   continue\n",
        "            elif z==2 :\n",
        "                    list1.remove(input(\"remove item: \"))\n",
        "                    print (list1)\n",
        "            else:\n",
        "                   break\n",
        "\n",
        "    elif x==2:\n",
        "            list1.remove(input(\"remove item: \"))\n",
        "            print (list1)\n",
        "            z=int (input (\"enter '1' to add your shopping item and enter '2' to remove the item or to exit enter 'any number': \"))\n",
        "            if z==2:\n",
        "                   list1.remove(input (\"remove more: \"))\n",
        "                   print (list1)\n",
        "            elif z==1:\n",
        "                   list1.append(input (\"add more: \"))\n",
        "                   print (list1)\n",
        "            else :\n",
        "                   break\n",
        "    else :\n",
        "           break\n",
        "print (\"This is you list\",list1)"
      ],
      "metadata": {
        "colab": {
          "base_uri": "https://localhost:8080/"
        },
        "id": "w1uFQtc3P7b9",
        "outputId": "8d1cfeb4-aa62-47b4-c6fb-aac8fc3339b8"
      },
      "execution_count": 22,
      "outputs": [
        {
          "output_type": "stream",
          "name": "stdout",
          "text": [
            "[]\n",
            "Start your shoping list by adding items:\n",
            "enter '1' to add your shopping item and enter '2' to remove the item or to exit enter 'any number': 1\n",
            "add item: cloth\n",
            "['cloth']\n",
            "enter '1' to add your shopping item and enter '2' to remove the item or to exit enter 'any number': 1\n",
            "add more: shoes\n",
            "['cloth', 'shoes']\n",
            "enter '1' to add your shopping item and enter '2' to remove the item or to exit enter 'any number': 1\n",
            "add item: watch\n",
            "['cloth', 'shoes', 'watch']\n",
            "enter '1' to add your shopping item and enter '2' to remove the item or to exit enter 'any number': 2\n",
            "remove item: shoes\n",
            "['cloth', 'watch']\n",
            "enter '1' to add your shopping item and enter '2' to remove the item or to exit enter 'any number': 3\n",
            "This is you list ['cloth', 'watch']\n"
          ]
        }
      ]
    },
    {
      "cell_type": "code",
      "source": [],
      "metadata": {
        "id": "MLngVXUdG09M"
      },
      "execution_count": null,
      "outputs": []
    }
  ]
}