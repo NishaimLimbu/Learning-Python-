{
  "nbformat": 4,
  "nbformat_minor": 0,
  "metadata": {
    "colab": {
      "provenance": [],
      "authorship_tag": "ABX9TyNRrhAK1ooqj1JDGUFQWSBp",
      "include_colab_link": true
    },
    "kernelspec": {
      "name": "python3",
      "display_name": "Python 3"
    },
    "language_info": {
      "name": "python"
    }
  },
  "cells": [
    {
      "cell_type": "markdown",
      "metadata": {
        "id": "view-in-github",
        "colab_type": "text"
      },
      "source": [
        "<a href=\"https://colab.research.google.com/github/NishaimLimbu/Learning-Python-/blob/main/Lesson3.ipynb\" target=\"_parent\"><img src=\"https://colab.research.google.com/assets/colab-badge.svg\" alt=\"Open In Colab\"/></a>"
      ]
    },
    {
      "cell_type": "markdown",
      "source": [
        "While loop:\n"
      ],
      "metadata": {
        "id": "4BEup9Y6Cup3"
      }
    },
    {
      "cell_type": "code",
      "execution_count": 1,
      "metadata": {
        "colab": {
          "base_uri": "https://localhost:8080/"
        },
        "id": "W4jLj2HRBsGP",
        "outputId": "163961d0-455c-489a-dd60-8c530ab5909d"
      },
      "outputs": [
        {
          "output_type": "stream",
          "name": "stdout",
          "text": [
            "5\n",
            "4\n",
            "3\n",
            "2\n",
            "1\n"
          ]
        }
      ],
      "source": [
        "count=5\n",
        "while (count>0):\n",
        "  print(count)\n",
        "  count=count-1"
      ]
    },
    {
      "cell_type": "code",
      "source": [
        "i=1\n",
        "while (i<10):\n",
        "  i =int (input (\"enter the number: \"))\n",
        "  print (i)\n",
        "\n",
        ""
      ],
      "metadata": {
        "colab": {
          "base_uri": "https://localhost:8080/"
        },
        "id": "Opto-EzmC95Z",
        "outputId": "eab3d743-c46f-4abb-e1cc-aacc2d317805"
      },
      "execution_count": 17,
      "outputs": [
        {
          "output_type": "stream",
          "name": "stdout",
          "text": [
            "enter the number: 10\n",
            "10\n"
          ]
        }
      ]
    },
    {
      "cell_type": "code",
      "source": [
        "count= 4\n",
        "while (count > 5):\n",
        "  print (count)\n",
        "else :\n",
        "  print (\"4 is not greater than zero.\")"
      ],
      "metadata": {
        "colab": {
          "base_uri": "https://localhost:8080/"
        },
        "id": "6W3QuP6SE-y-",
        "outputId": "07ecb33c-5c6e-4a18-c86b-98d2cdb78329"
      },
      "execution_count": 3,
      "outputs": [
        {
          "output_type": "stream",
          "name": "stdout",
          "text": [
            "count value reached zero\n"
          ]
        }
      ]
    },
    {
      "cell_type": "markdown",
      "source": [
        "While True:\n",
        "It will run the program until the condition becomes False.\n",
        "\n",
        "*   break: break statement break the program. If it will not used in below program it will run for infinite time but break statement end the program.\n"
      ],
      "metadata": {
        "id": "wufuaJDhF5BL"
      }
    },
    {
      "cell_type": "code",
      "source": [
        "while True:\n",
        "  print (\"hello\")\n",
        "  break"
      ],
      "metadata": {
        "colab": {
          "base_uri": "https://localhost:8080/"
        },
        "id": "Tei1FMcEGZsr",
        "outputId": "6ccfd280-bf27-49a4-a53b-a8490aae2ad2"
      },
      "execution_count": 6,
      "outputs": [
        {
          "output_type": "stream",
          "name": "stdout",
          "text": [
            "hello\n"
          ]
        }
      ]
    },
    {
      "cell_type": "code",
      "source": [
        "for i in range(12):\n",
        "  if (i==10):\n",
        "    break #it breaks program after condition meets.\n",
        "  print (\"3 X\", i+1, \"=\", 3*(i+1))\n",
        "print (\"end of program\")"
      ],
      "metadata": {
        "colab": {
          "base_uri": "https://localhost:8080/"
        },
        "id": "cESkuti0HdBr",
        "outputId": "28fc0ca1-624b-470d-b1be-56017ab11f30"
      },
      "execution_count": 10,
      "outputs": [
        {
          "output_type": "stream",
          "name": "stdout",
          "text": [
            "3 X 1 = 3\n",
            "3 X 2 = 6\n",
            "3 X 3 = 9\n",
            "3 X 4 = 12\n",
            "3 X 5 = 15\n",
            "3 X 6 = 18\n",
            "3 X 7 = 21\n",
            "3 X 8 = 24\n",
            "3 X 9 = 27\n",
            "3 X 10 = 30\n",
            "end of program\n"
          ]
        }
      ]
    },
    {
      "cell_type": "markdown",
      "source": [
        "continue: continue statement will skip the part which is mentioned in the condition."
      ],
      "metadata": {
        "id": "CrOI1wnhHOCg"
      }
    },
    {
      "cell_type": "code",
      "source": [
        "for i in range(12):\n",
        "  if (i==10):\n",
        "    continue #it skip program after condition meets. It skip the 3*11=33 part.\n",
        "  print (\"3 X\", i+1, \"=\", 3*(i+1))\n",
        "print (\"end of program\")"
      ],
      "metadata": {
        "colab": {
          "base_uri": "https://localhost:8080/"
        },
        "id": "PEQvP_hhIFhR",
        "outputId": "1565f2c3-9701-4554-b6cd-bf154c5c353c"
      },
      "execution_count": 12,
      "outputs": [
        {
          "output_type": "stream",
          "name": "stdout",
          "text": [
            "3 X 1 = 3\n",
            "3 X 2 = 6\n",
            "3 X 3 = 9\n",
            "3 X 4 = 12\n",
            "3 X 5 = 15\n",
            "3 X 6 = 18\n",
            "3 X 7 = 21\n",
            "3 X 8 = 24\n",
            "3 X 9 = 27\n",
            "3 X 10 = 30\n",
            "3 X 12 = 36\n",
            "end of program\n"
          ]
        }
      ]
    },
    {
      "cell_type": "markdown",
      "source": [
        "List:\n",
        "list are made to store multiple item in single variable.\n",
        "list are seperated by commas and enclosed in []. List can be canged and edited.\n",
        "\n"
      ],
      "metadata": {
        "id": "kD9unpb8I3I4"
      }
    },
    {
      "cell_type": "code",
      "source": [
        "l=[3,5,6]\n",
        "print (l)\n",
        "print (type(l))\n",
        "print (l[0])\n",
        "print (l[1])"
      ],
      "metadata": {
        "colab": {
          "base_uri": "https://localhost:8080/"
        },
        "id": "-7xitWx4IXpz",
        "outputId": "8f46f140-cd92-4dab-9b82-690ff60fc6ad"
      },
      "execution_count": 15,
      "outputs": [
        {
          "output_type": "stream",
          "name": "stdout",
          "text": [
            "[3, 5, 6]\n",
            "<class 'list'>\n",
            "3\n",
            "5\n"
          ]
        }
      ]
    },
    {
      "cell_type": "code",
      "source": [
        "color=['red','blue','green']\n",
        "print (color[2])"
      ],
      "metadata": {
        "colab": {
          "base_uri": "https://localhost:8080/"
        },
        "id": "L-e6VZ4DJGYc",
        "outputId": "02d4f314-bd52-46a4-f635-8e76c3865d20"
      },
      "execution_count": 16,
      "outputs": [
        {
          "output_type": "stream",
          "name": "stdout",
          "text": [
            "green\n"
          ]
        }
      ]
    },
    {
      "cell_type": "code",
      "source": [
        "colors=['red','blue','green','yellow','grey']\n",
        "if 'yellow' in colors:\n",
        "  print ('it exist in list')\n",
        "else :\n",
        "  print ('don\\'t exist')"
      ],
      "metadata": {
        "colab": {
          "base_uri": "https://localhost:8080/"
        },
        "id": "7WRXDp81JxRQ",
        "outputId": "686bca3a-e06c-47e4-fe66-c381d2d37fcd"
      },
      "execution_count": 19,
      "outputs": [
        {
          "output_type": "stream",
          "name": "stdout",
          "text": [
            "it exist in list\n"
          ]
        }
      ]
    },
    {
      "cell_type": "code",
      "source": [
        "#to make list of squares\n",
        "num=[i*i for i in range(1,11)]\n",
        "print (num)"
      ],
      "metadata": {
        "colab": {
          "base_uri": "https://localhost:8080/"
        },
        "id": "kAQpAzugLpPH",
        "outputId": "e8a6311c-e4ce-401f-ff4c-681ff2b7c685"
      },
      "execution_count": 22,
      "outputs": [
        {
          "output_type": "stream",
          "name": "stdout",
          "text": [
            "[1, 4, 9, 16, 25, 36, 49, 64, 81, 100]\n"
          ]
        }
      ]
    },
    {
      "cell_type": "code",
      "source": [
        "#to make list of evens\n",
        "num=[i for i in range(1,11) if i%2==0]\n",
        "print (num)"
      ],
      "metadata": {
        "colab": {
          "base_uri": "https://localhost:8080/"
        },
        "id": "McjWqFNkL0eX",
        "outputId": "959d47fd-0f8f-40da-abe8-38dc12235590"
      },
      "execution_count": 23,
      "outputs": [
        {
          "output_type": "stream",
          "name": "stdout",
          "text": [
            "[2, 4, 6, 8, 10]\n"
          ]
        }
      ]
    },
    {
      "cell_type": "code",
      "source": [
        "name=[\"sachin\",\"ram\",\"soham\",\"shyam\",\"lakshman\",'rome']\n",
        "nameWith_0=[item for item in name if \"o\" in item]# print those name which contain o in it\n",
        "print (nameWith_0)"
      ],
      "metadata": {
        "colab": {
          "base_uri": "https://localhost:8080/"
        },
        "id": "OGT1uDzgKXrF",
        "outputId": "887fdad9-2f59-48cd-ce29-47766888194c"
      },
      "execution_count": 24,
      "outputs": [
        {
          "output_type": "stream",
          "name": "stdout",
          "text": [
            "['soham', 'rome']\n"
          ]
        }
      ]
    },
    {
      "cell_type": "code",
      "source": [
        "#to add item in list\n",
        "list=[\"ram\",\"shyam\",\"sita\"]\n",
        "list.append(\"gita\") #append used to add item in list\n",
        "print (list)\n"
      ],
      "metadata": {
        "colab": {
          "base_uri": "https://localhost:8080/"
        },
        "id": "euCNlwfwMIkb",
        "outputId": "eeac3a21-e911-41d1-8530-5bfd3c8853ae"
      },
      "execution_count": 25,
      "outputs": [
        {
          "output_type": "stream",
          "name": "stdout",
          "text": [
            "['ram', 'shyam', 'sita', 'gita']\n"
          ]
        }
      ]
    },
    {
      "cell_type": "code",
      "source": [
        "#to remove item from list\n",
        "list=[\"ram\",\"shyam\",\"sita\"]\n",
        "list.remove(\"shyam\") #remove used to remove item from list\n",
        "print (list)"
      ],
      "metadata": {
        "colab": {
          "base_uri": "https://localhost:8080/"
        },
        "id": "e3_yy-lEQbH-",
        "outputId": "c951b31d-5988-48d6-d895-c6717dc5a37a"
      },
      "execution_count": 45,
      "outputs": [
        {
          "output_type": "stream",
          "name": "stdout",
          "text": [
            "['ram', 'sita']\n"
          ]
        }
      ]
    },
    {
      "cell_type": "code",
      "source": [
        "#To sort the list\n",
        "list=[8,5,1,9,10,4,6]\n",
        "list.sort() #it sort in acending order\n",
        "print (list)\n",
        "list.reverse() #it sort in decending order\n",
        "print (list)\n"
      ],
      "metadata": {
        "colab": {
          "base_uri": "https://localhost:8080/"
        },
        "id": "tQ3Jz1P6Mfjb",
        "outputId": "62dad149-c92a-4d12-c03c-c81d6d45654c"
      },
      "execution_count": 30,
      "outputs": [
        {
          "output_type": "stream",
          "name": "stdout",
          "text": [
            "[1, 4, 5, 6, 8, 9, 10]\n",
            "[10, 9, 8, 6, 5, 4, 1]\n"
          ]
        }
      ]
    },
    {
      "cell_type": "code",
      "source": [
        "#to count how many time the item is repeating in the list.\n",
        "list=[1,2,1,8,5,7,6,9,1,2,5,7,9,1,5,7]\n",
        "print (list.count(9))\n",
        "print (list.count(1))"
      ],
      "metadata": {
        "colab": {
          "base_uri": "https://localhost:8080/"
        },
        "id": "BLHmVTIaMxdt",
        "outputId": "2634a73c-b41b-4ca6-8157-13fff417066a"
      },
      "execution_count": 33,
      "outputs": [
        {
          "output_type": "stream",
          "name": "stdout",
          "text": [
            "2\n",
            "4\n"
          ]
        }
      ]
    },
    {
      "cell_type": "code",
      "source": [
        "#to copy the list into new variable.\n",
        "list1=[1,11,111,222,22,2]\n",
        "list2=list1\n",
        "list2[2]=666 #by doing this it effect the list1 also.\n",
        "print (\"effected by the list2 value change it changed in list1\",list1)\n",
        "list3=list1.copy()\n",
        "list3[2]=999\n",
        "print (\"don't effect in list1 it is already effect by list2 but not by list3\",list1)#now we can change the value in list3 don't effect list1\n",
        "print (\"it copied the value in other variable so don't effect the change\",list3)"
      ],
      "metadata": {
        "colab": {
          "base_uri": "https://localhost:8080/"
        },
        "id": "JFFJKBupNwJ6",
        "outputId": "a838e6dd-25b2-4a38-d359-e5d6a592a689"
      },
      "execution_count": 41,
      "outputs": [
        {
          "output_type": "stream",
          "name": "stdout",
          "text": [
            "effected by the list2 value change it changed in list1 [1, 11, 666, 222, 22, 2]\n",
            "don't effect in list1 it is already effect by list2 but not by list3 [1, 11, 666, 222, 22, 2]\n",
            "it copied the value in other variable so don't effect the change [1, 11, 999, 222, 22, 2]\n"
          ]
        }
      ]
    },
    {
      "cell_type": "code",
      "source": [
        "#to insert the value in between the item of list without chaning with other\n",
        "list=[1,5,9,7,6,2,4]\n",
        "list.insert(2,10) #insert 10 in 2nd index\n",
        "print (list)"
      ],
      "metadata": {
        "colab": {
          "base_uri": "https://localhost:8080/"
        },
        "id": "QH0O44O8PQlt",
        "outputId": "19153c8d-ce16-4208-c7d8-ae1c2317e61d"
      },
      "execution_count": 43,
      "outputs": [
        {
          "output_type": "stream",
          "name": "stdout",
          "text": [
            "[1, 5, 10, 9, 7, 6, 2, 4]\n"
          ]
        }
      ]
    },
    {
      "cell_type": "code",
      "source": [
        "#to put one list to other list\n",
        "list1=[1,2,3,4,5]\n",
        "list2=[6,7,8,9,10]\n",
        "list1.extend(list2)\n",
        "print (list1)"
      ],
      "metadata": {
        "colab": {
          "base_uri": "https://localhost:8080/"
        },
        "id": "1dyKj3VePho0",
        "outputId": "630d8920-512a-42dd-90d7-2d3ba2f1b4e8"
      },
      "execution_count": 44,
      "outputs": [
        {
          "output_type": "stream",
          "name": "stdout",
          "text": [
            "[1, 2, 3, 4, 5, 6, 7, 8, 9, 10]\n"
          ]
        }
      ]
    },
    {
      "cell_type": "markdown",
      "source": [
        "Task: To make a program to add the shoping list from the user and also remove the item from list if not needed. And also show the user the final list which he/she chossen."
      ],
      "metadata": {
        "id": "2yaEce8MQLzl"
      }
    },
    {
      "cell_type": "code",
      "source": [
        "list1 =[]\n",
        "print (list1)\n",
        "print (\"Start your shoping list by adding items:\")\n",
        "while True:\n",
        "    x=int(input(\"enter '1' to add your shopping item and enter '2' to remove the item or to exit enter 'any number': \"))\n",
        "    if x==1:\n",
        "            list1.append(input(\"add item: \"))\n",
        "            print(list1)\n",
        "            z=int(input(\"enter '1' to add your shopping item and enter '2' to remove the item or to exit enter 'any number': \"))\n",
        "            if z==1:\n",
        "                   list1.append(input (\"add more: \"))\n",
        "                   print (list1)\n",
        "                   continue\n",
        "            elif z==2 :\n",
        "                    list1.remove(input(\"remove item: \"))\n",
        "                    print (list1)\n",
        "            else:\n",
        "                   break\n",
        "\n",
        "    elif x==2:\n",
        "            list1.remove(input(\"remove item: \"))\n",
        "            print (list1)\n",
        "            z=int (input (\"enter '1' to add your shopping item and enter '2' to remove the item or to exit enter 'any number': \"))\n",
        "            if z==2:\n",
        "                   list1.remove(input (\"remove more: \"))\n",
        "                   print (list1)\n",
        "            elif z==1:\n",
        "                   list1.append(input (\"add more: \"))\n",
        "                   print (list1)\n",
        "            else :\n",
        "                   break\n",
        "    else :\n",
        "           break\n",
        "print (\"This is you list\",list1)"
      ],
      "metadata": {
        "colab": {
          "base_uri": "https://localhost:8080/"
        },
        "id": "w1uFQtc3P7b9",
        "outputId": "1389b872-638c-4ccc-882c-1b5033460ddc"
      },
      "execution_count": 50,
      "outputs": [
        {
          "output_type": "stream",
          "name": "stdout",
          "text": [
            "[]\n",
            "Start your shoping list by adding items:\n",
            "enter '1' to add your shopping item and enter '2' to remove the item or to exit enter '3': 1\n",
            "add item: shoes\n",
            "['shoes']\n",
            "enter '1' to add your shopping item and enter '2' to remove the item or to exit enter '3': 1\n",
            "add more: bananas\n",
            "['shoes', 'bananas']\n",
            "enter '1' to add your shopping item and enter '2' to remove the item or to exit enter '3': 1\n",
            "add item: apples\n",
            "['shoes', 'bananas', 'apples']\n",
            "enter '1' to add your shopping item and enter '2' to remove the item or to exit enter '3': 1\n",
            "add more: socks\n",
            "['shoes', 'bananas', 'apples', 'socks']\n",
            "enter '1' to add your shopping item and enter '2' to remove the item or to exit enter '3': 1\n",
            "add item: pants\n",
            "['shoes', 'bananas', 'apples', 'socks', 'pants']\n",
            "enter '1' to add your shopping item and enter '2' to remove the item or to exit enter '3': 2\n",
            "remove item: bananas\n",
            "['shoes', 'apples', 'socks', 'pants']\n",
            "enter '1' to add your shopping item and enter '2' to remove the item or to exit enter '3': 2\n",
            "remove item: socks\n",
            "['shoes', 'apples', 'pants']\n",
            "enter '1' to add your shopping item and enter '2' to remove the item or to exit enter '3': 4\n",
            "This is you list ['shoes', 'apples', 'pants']\n"
          ]
        }
      ]
    }
  ]
}